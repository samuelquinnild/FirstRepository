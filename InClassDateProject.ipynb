{
  "nbformat": 4,
  "nbformat_minor": 0,
  "metadata": {
    "colab": {
      "provenance": [],
      "authorship_tag": "ABX9TyPrJKnWxZl+sFnjs+EsAjl7",
      "include_colab_link": true
    },
    "kernelspec": {
      "name": "python3",
      "display_name": "Python 3"
    },
    "language_info": {
      "name": "python"
    }
  },
  "cells": [
    {
      "cell_type": "markdown",
      "metadata": {
        "id": "view-in-github",
        "colab_type": "text"
      },
      "source": [
        "<a href=\"https://colab.research.google.com/github/samuelquinnild/FirstRepository/blob/main/InClassDateProject.ipynb\" target=\"_parent\"><img src=\"https://colab.research.google.com/assets/colab-badge.svg\" alt=\"Open In Colab\"/></a>"
      ]
    },
    {
      "cell_type": "code",
      "execution_count": 4,
      "metadata": {
        "colab": {
          "base_uri": "https://localhost:8080/"
        },
        "id": "5SF8K9BENk3D",
        "outputId": "7f22cfbd-7395-45c2-9564-2500a9b73510"
      },
      "outputs": [
        {
          "output_type": "stream",
          "name": "stdout",
          "text": [
            "Enter the date (in MM/DD/YYYY format): 02/21/2024\n",
            "Month = 02\n",
            "Day = 21\n",
            "Year = 2024\n"
          ]
        }
      ],
      "source": [
        "date_str = input(\"Enter the date (in MM/DD/YYYY format): \")\n",
        "month = date_str[0:2]\n",
        "day = date_str[3:5]\n",
        "year = date_str[6:]\n",
        "\n",
        "print(\"Month =\", month)\n",
        "print(\"Day =\", day)\n",
        "print(\"Year =\", year)\n"
      ]
    }
  ]
}