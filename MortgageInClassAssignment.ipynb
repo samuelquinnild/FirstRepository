{
  "nbformat": 4,
  "nbformat_minor": 0,
  "metadata": {
    "colab": {
      "provenance": [],
      "authorship_tag": "ABX9TyMBd960UmGXhzC49RabBw6R",
      "include_colab_link": true
    },
    "kernelspec": {
      "name": "python3",
      "display_name": "Python 3"
    },
    "language_info": {
      "name": "python"
    }
  },
  "cells": [
    {
      "cell_type": "markdown",
      "metadata": {
        "id": "view-in-github",
        "colab_type": "text"
      },
      "source": [
        "<a href=\"https://colab.research.google.com/github/samuelquinnild/FirstRepository/blob/main/MortgageInClassAssignment.ipynb\" target=\"_parent\"><img src=\"https://colab.research.google.com/assets/colab-badge.svg\" alt=\"Open In Colab\"/></a>"
      ]
    },
    {
      "cell_type": "code",
      "execution_count": 1,
      "metadata": {
        "id": "UX9p5j426Nyh"
      },
      "outputs": [],
      "source": [
        "class Mortgage:\n",
        "  def __init__(self, initial, maturity, rate):\n",
        "    self.initial = initial\n",
        "    self.maturity = maturity\n",
        "    self.__rate = rate\n",
        "\n",
        "  def get_rate(self):\n",
        "    return self.__rate\n",
        "\n",
        "  def set_rate(self, newRate):\n",
        "    if newRate >= 0:\n",
        "      self.__rate = newRate\n",
        "    else:\n",
        "      print('Interest must be non-negative!')\n",
        "\n",
        "  def payment(self):\n",
        "    B = self.initial\n",
        "    n = self.maturity * 12\n",
        "    r = self.__rate / 100\n",
        "    return B * (r * (1 + r) ** n) / ((1 + r) ** n - 1)"
      ]
    },
    {
      "cell_type": "code",
      "source": [
        "m = Mortgage(100000, 30, 6)"
      ],
      "metadata": {
        "id": "G9_1OzOU7QoF"
      },
      "execution_count": 2,
      "outputs": []
    },
    {
      "cell_type": "code",
      "source": [
        "m.payment()"
      ],
      "metadata": {
        "colab": {
          "base_uri": "https://localhost:8080/"
        },
        "id": "1C7B22Pr7U3y",
        "outputId": "c6aecbaa-146a-4253-94b8-503a51ade3be"
      },
      "execution_count": 3,
      "outputs": [
        {
          "output_type": "execute_result",
          "data": {
            "text/plain": [
              "6000.000004656286"
            ]
          },
          "metadata": {},
          "execution_count": 3
        }
      ]
    },
    {
      "cell_type": "code",
      "source": [
        "m.set_rate(5)\n",
        "m.get_rate()"
      ],
      "metadata": {
        "colab": {
          "base_uri": "https://localhost:8080/"
        },
        "id": "vQ5TKDQc7W8B",
        "outputId": "064f5268-811b-4e2c-b7d8-0198389966a3"
      },
      "execution_count": 4,
      "outputs": [
        {
          "output_type": "execute_result",
          "data": {
            "text/plain": [
              "5"
            ]
          },
          "metadata": {},
          "execution_count": 4
        }
      ]
    }
  ]
}