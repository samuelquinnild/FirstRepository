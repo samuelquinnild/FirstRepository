{
  "nbformat": 4,
  "nbformat_minor": 0,
  "metadata": {
    "colab": {
      "provenance": [],
      "authorship_tag": "ABX9TyP4o+JkBJkPT2Dm3aaGL0t9",
      "include_colab_link": true
    },
    "kernelspec": {
      "name": "python3",
      "display_name": "Python 3"
    },
    "language_info": {
      "name": "python"
    }
  },
  "cells": [
    {
      "cell_type": "markdown",
      "metadata": {
        "id": "view-in-github",
        "colab_type": "text"
      },
      "source": [
        "<a href=\"https://colab.research.google.com/github/samuelquinnild/FirstRepository/blob/main/ProblemsInClass.ipynb\" target=\"_parent\"><img src=\"https://colab.research.google.com/assets/colab-badge.svg\" alt=\"Open In Colab\"/></a>"
      ]
    },
    {
      "cell_type": "code",
      "execution_count": null,
      "metadata": {
        "colab": {
          "base_uri": "https://localhost:8080/"
        },
        "id": "jTTzriuXva_6",
        "outputId": "b9358895-6ceb-410a-ad78-20724cb9b15e"
      },
      "outputs": [
        {
          "output_type": "stream",
          "name": "stdout",
          "text": [
            "Odd\n",
            "Done with Conditional\n"
          ]
        }
      ],
      "source": [
        "x = 3\n",
        "\n",
        "if x%2 == 0:\n",
        "  print('Even')\n",
        "else:\n",
        "  print('Odd')\n",
        "print('Done with Conditional')"
      ]
    },
    {
      "cell_type": "markdown",
      "source": [
        "Below is how to figure out interest rates while asking for an input"
      ],
      "metadata": {
        "id": "_vCMSrmN2brP"
      }
    },
    {
      "cell_type": "code",
      "source": [
        "customer_type = input('Enter customer type (n: new, e: existing): ')\n",
        "deposit = float(input('Enter Deposit Amount '))\n",
        "\n",
        "if customer_type == 'e':\n",
        "  if deposit > 10000:\n",
        "    ir = 3.5\n",
        "  elif deposit <= 1000:\n",
        "    ir = 3.0\n",
        "  else:\n",
        "    ir = 3.25\n",
        "else:\n",
        "  ir = 3.0\n",
        "\n",
        "total = (1 + ir/100) * deposit\n",
        "print(f'Deposit at the end of the year: {round(total, 2)}')"
      ],
      "metadata": {
        "colab": {
          "base_uri": "https://localhost:8080/"
        },
        "id": "0tySc9ZJwkz4",
        "outputId": "e41ef640-8bce-4462-b1d1-f534b5e1741f"
      },
      "execution_count": null,
      "outputs": [
        {
          "output_type": "stream",
          "name": "stdout",
          "text": [
            "Enter Deposit Amount 15000\n",
            "Deposit at the end of the year: 15525.0\n"
          ]
        }
      ]
    },
    {
      "cell_type": "markdown",
      "source": [
        "Below is an example of four conditions"
      ],
      "metadata": {
        "id": "S21OvOoz2Rup"
      }
    },
    {
      "cell_type": "code",
      "source": [
        "x = 30\n",
        "\n",
        "if x%2 == 0:\n",
        "  if x%3 == 0:\n",
        "    print('Divisible by 2 and 3')\n",
        "  else:\n",
        "    print('Divisible by 2 and not 3')\n",
        "elif x%3 == 0:\n",
        "  print('Divisible by 3 and not 2')\n",
        "else:\n",
        "  print('Not divisible by either 2 or 3')"
      ],
      "metadata": {
        "colab": {
          "base_uri": "https://localhost:8080/"
        },
        "id": "gRAp5Jej1sJK",
        "outputId": "ade1f14c-7d40-4c1b-dd3e-717ddcd588ab"
      },
      "execution_count": null,
      "outputs": [
        {
          "output_type": "stream",
          "name": "stdout",
          "text": [
            "Divisible by 2 and 3\n"
          ]
        }
      ]
    },
    {
      "cell_type": "code",
      "source": [
        "!pip install ColabTurtlePlus"
      ],
      "metadata": {
        "colab": {
          "base_uri": "https://localhost:8080/"
        },
        "id": "-FupsbfIwQN0",
        "outputId": "0bc92300-5759-40bb-bf90-7d155281a232"
      },
      "execution_count": null,
      "outputs": [
        {
          "output_type": "stream",
          "name": "stdout",
          "text": [
            "Collecting ColabTurtlePlus\n",
            "  Downloading ColabTurtlePlus-2.0.1-py3-none-any.whl (31 kB)\n",
            "Installing collected packages: ColabTurtlePlus\n",
            "Successfully installed ColabTurtlePlus-2.0.1\n"
          ]
        }
      ]
    },
    {
      "cell_type": "code",
      "source": [
        "from ColabTurtlePlus.Turtle import *\n",
        "\n",
        "clearscreen()\n",
        "\n",
        "color('black','yellow')\n",
        "begin_fill()\n",
        "jumpto(0,0)\n",
        "\n",
        "for var in range(4):\n",
        "  forward(100)\n",
        "  left(90)\n",
        "\n",
        "end_fill()"
      ],
      "metadata": {
        "colab": {
          "base_uri": "https://localhost:8080/",
          "height": 621
        },
        "id": "UNypTxW6w7ck",
        "outputId": "5aaa9407-6a16-427d-d8e5-2911969e097b"
      },
      "execution_count": null,
      "outputs": [
        {
          "output_type": "display_data",
          "data": {
            "text/plain": [
              "<IPython.core.display.HTML object>"
            ],
            "text/html": [
              "\n",
              "      <svg width=\"800\" height=\"600\">  \n",
              "        <rect width=\"100%\" height=\"100%\" style=\"fill:white;stroke:;stroke-width:1\"/>\n",
              "        \n",
              "        \n",
              "        <path fill-rule=\"evenodd\" fill-opacity=\"1\" d=\"M 400.0 300.0  L 400.0 300.0  L 500.0 300.0  L 500.0 200.0  L 400.0 200.0  L 400.0 300.0 \" stroke-linecap=\"round\" style=\"stroke:black;stroke-width:1\" fill=\"yellow\" />\n",
              "        \n",
              "        \n",
              "        <g id=\"classic\" visibility=\"visible\" transform=\"rotate(-90,400.0,300.0) translate(400.0, 300.0)\">\n",
              "<polygon points=\"-5,-4.5 0,-2.5 5,-4.5 0,4.5\" transform=\"skewX(0) scale(1,1)\" style=\"stroke:black;fill:yellow;stroke-width:1\" />\n",
              "</g>\n",
              "      </svg>\n",
              "    "
            ]
          },
          "metadata": {}
        }
      ]
    },
    {
      "cell_type": "code",
      "source": [
        "for i in range(5, 40, 10):\n",
        "  print(i)"
      ],
      "metadata": {
        "colab": {
          "base_uri": "https://localhost:8080/"
        },
        "id": "79RVJAdb11Tb",
        "outputId": "5a329a67-5b53-41be-de97-f750181a6d3b"
      },
      "execution_count": null,
      "outputs": [
        {
          "output_type": "stream",
          "name": "stdout",
          "text": [
            "5\n",
            "12\n",
            "19\n",
            "26\n",
            "33\n"
          ]
        }
      ]
    },
    {
      "cell_type": "markdown",
      "source": [
        "A parking garage charges $5 plus $2.50 for each hour parked. The minimum fee is $10 and the maximum fee is $20. Write a program that generates a table with hours parked and the corresponding fee, from 1 to 8 hours.\n",
        "\n",
        "> Indented block\n",
        "\n"
      ],
      "metadata": {
        "id": "J1uv9SUlELNt"
      }
    },
    {
      "cell_type": "code",
      "source": [
        "base = 5\n",
        "hourly = 2.5\n",
        "min_fee = 10\n",
        "max_fee = 20\n",
        "\n",
        "print(\"Hours Parked\\tFee\")\n",
        "for hour in range(1,9,1):\n",
        "  fee = base + hourly * hour\n",
        "  if fee < min_fee:\n",
        "    print(hour, \"10.0\")\n",
        "  elif fee > max_fee:\n",
        "    print(hour, \"20.0\")\n",
        "  else:\n",
        "    print(hour, fee)"
      ],
      "metadata": {
        "colab": {
          "base_uri": "https://localhost:8080/"
        },
        "id": "c1WT1jtQEKaY",
        "outputId": "69eb15bc-b694-47cb-f51a-0309d661a191"
      },
      "execution_count": null,
      "outputs": [
        {
          "output_type": "stream",
          "name": "stdout",
          "text": [
            "Hours Parked\tFee\n",
            "1 10.0\n",
            "2 10.0\n",
            "3 12.5\n",
            "4 15.0\n",
            "5 17.5\n",
            "6 20.0\n",
            "7 20.0\n",
            "8 20.0\n"
          ]
        }
      ]
    },
    {
      "cell_type": "markdown",
      "source": [
        "the for loop is used with a variable that sequences through objects"
      ],
      "metadata": {
        "id": "GgggjoP1Wfz_"
      }
    },
    {
      "cell_type": "code",
      "source": [
        "import random\n",
        "userinput = input(\"Do you want to play the game? \")\n",
        "\n",
        "while userinput == \"yes\":\n",
        "  print(\"play\")\n",
        "  user_choice = input(\"Enter your choice (rock, paper, or scissors): \")\n",
        "  computer_choice = random.choice([\"rock\", \"paper\", \"scissors\"])\n",
        "\n",
        "  print(f\"You chose: {user_choice}\")\n",
        "  print(f\"Computer chose: {computer_choice}\")\n",
        "\n",
        "  if user_choice == computer_choice:\n",
        "      print(\"It's a tie!\")\n",
        "  elif (\n",
        "      (user_choice == \"rock\" and computer_choice == \"scissors\") or\n",
        "      (user_choice == \"paper\" and computer_choice == \"rock\") or\n",
        "      (user_choice == \"scissors\" and computer_choice == \"paper\")\n",
        "  ):\n",
        "      print(\"You win!\")\n",
        "  else:\n",
        "      print(\"Computer wins!\")\n",
        "  userinput = input(\"Do you want to play the game?\")"
      ],
      "metadata": {
        "colab": {
          "base_uri": "https://localhost:8080/"
        },
        "id": "_xlVVRbGasZK",
        "outputId": "560f96da-7205-468f-859f-d1027b695366"
      },
      "execution_count": null,
      "outputs": [
        {
          "name": "stdout",
          "output_type": "stream",
          "text": [
            "Do you want to play the game? yes!\n"
          ]
        }
      ]
    },
    {
      "cell_type": "markdown",
      "source": [
        "The making of a calculator"
      ],
      "metadata": {
        "id": "RouZeSsx51re"
      }
    },
    {
      "cell_type": "code",
      "source": [
        "while True:\n",
        "    num1 = input(\"Enter the first number: \")\n",
        "\n",
        "    try:\n",
        "        num1 = float(num1)\n",
        "\n",
        "    operator = input(\"Enter an operator (+, -, *, /) or 'break' to quit: \")\n",
        "\n",
        "    if operator == \"break\":\n",
        "        print(\"Calculator out.\")\n",
        "        break\n",
        "\n",
        "    if operator not ['+', '-', '*', '/']:\n",
        "        print(\"Invalid operator. Please enter a valid numerical operator.\")\n",
        "        continue\n",
        "\n",
        "    num2 = input(\"Enter the second number (int or float): \")\n",
        "\n",
        "    if operator == '+':\n",
        "        result = num1 + num2\n",
        "    elif operator == '-':\n",
        "        result = num1 - num2\n",
        "    elif operator == '*':\n",
        "        result = num1 * num2\n",
        "    else\n",
        "        result = num1 / num2\n",
        "\n",
        "    print(\"The result is: (result)\")\n"
      ],
      "metadata": {
        "id": "f_LE9U9d53ug",
        "colab": {
          "base_uri": "https://localhost:8080/"
        },
        "outputId": "30dcd464-a940-4a79-b485-8eb3404f4c31"
      },
      "execution_count": null,
      "outputs": [
        {
          "output_type": "stream",
          "name": "stdout",
          "text": [
            "Enter the first number (int or float): 765\n",
            "Enter an operator (+, -, *, /) or 'break' to stop: /\n",
            "Enter the second number (int or float): 23\n",
            "The result is: 33.26086956521739\n"
          ]
        }
      ]
    },
    {
      "cell_type": "code",
      "source": [],
      "metadata": {
        "id": "4i55rtys9Jxj"
      },
      "execution_count": null,
      "outputs": []
    }
  ]
}